{
 "cells": [
  {
   "cell_type": "markdown",
   "metadata": {},
   "source": [
    "# Tree rings analysis in LSST sensors"
   ]
  },
  {
   "cell_type": "code",
   "execution_count": 1,
   "metadata": {
    "execution": {
     "iopub.execute_input": "2024-02-24T02:38:13.432823Z",
     "iopub.status.busy": "2024-02-24T02:38:13.432682Z",
     "iopub.status.idle": "2024-02-24T02:38:20.128479Z",
     "shell.execute_reply": "2024-02-24T02:38:20.128026Z",
     "shell.execute_reply.started": "2024-02-24T02:38:13.432809Z"
    }
   },
   "outputs": [
    {
     "name": "stdout",
     "output_type": "stream",
     "text": [
      "Defaulting to user installation because normal site-packages is not writeable\n",
      "Requirement already satisfied: sep in /home/y/youtsumi/.local/lib/python3.11/site-packages (1.2.1)\n",
      "Requirement already satisfied: numpy in /opt/lsst/software/stack/conda/miniconda3-py38_4.9.2/envs/lsst-scipipe-8.0.0/lib/python3.11/site-packages (from sep) (1.24.4)\n",
      "\u001b[33mDEPRECATION: nb-black 1.0.7 has a non-standard dependency specifier black>='19.3'; python_version >= \"3.6\". pip 24.0 will enforce this behaviour change. A possible replacement is to upgrade to a newer version of nb-black or contact the author to suggest that they release a version with a conforming dependency specifiers. Discussion can be found at https://github.com/pypa/pip/issues/12063\u001b[0m\u001b[33m\n",
      "\u001b[0mDefaulting to user installation because normal site-packages is not writeable\n",
      "Requirement already satisfied: opencv-python in /home/y/youtsumi/.local/lib/python3.11/site-packages (4.8.0.74)\n",
      "Requirement already satisfied: numpy>=1.21.2 in /opt/lsst/software/stack/conda/miniconda3-py38_4.9.2/envs/lsst-scipipe-8.0.0/lib/python3.11/site-packages (from opencv-python) (1.24.4)\n",
      "\u001b[33mDEPRECATION: nb-black 1.0.7 has a non-standard dependency specifier black>='19.3'; python_version >= \"3.6\". pip 24.0 will enforce this behaviour change. A possible replacement is to upgrade to a newer version of nb-black or contact the author to suggest that they release a version with a conforming dependency specifiers. Discussion can be found at https://github.com/pypa/pip/issues/12063\u001b[0m\u001b[33m\n",
      "\u001b[0m"
     ]
    }
   ],
   "source": [
    "!pip install sep\n",
    "!pip install opencv-python"
   ]
  },
  {
   "cell_type": "code",
   "execution_count": 2,
   "metadata": {
    "execution": {
     "iopub.execute_input": "2024-02-24T02:38:20.130572Z",
     "iopub.status.busy": "2024-02-24T02:38:20.130324Z",
     "iopub.status.idle": "2024-02-24T02:38:20.740364Z",
     "shell.execute_reply": "2024-02-24T02:38:20.739861Z",
     "shell.execute_reply.started": "2024-02-24T02:38:20.130554Z"
    }
   },
   "outputs": [
    {
     "name": "stderr",
     "output_type": "stream",
     "text": [
      "/tmp/ipykernel_26107/1011429305.py:23: DeprecationWarning: Please use `gaussian_filter` from the `scipy.ndimage` namespace, the `scipy.ndimage.filters` namespace is deprecated.\n",
      "  from scipy.ndimage.filters import gaussian_filter\n"
     ]
    }
   ],
   "source": [
    "%reset -f\n",
    "%matplotlib inline\n",
    "%load_ext autoreload\n",
    "%autoreload 2\n",
    "\n",
    "import matplotlib.pyplot as plt\n",
    "plt.rc('image', interpolation='bicubic', origin='lower', cmap = 'hot')\n",
    "plt.rcParams[\"axes.formatter.useoffset\"] = False\n",
    "plt.rcParams['figure.figsize'] = [14.0, 10.0]\n",
    "rcParams = plt.rcParams.copy()\n",
    "\n",
    "import numpy as np\n",
    "import posixpath, glob, datetime, os, sys\n",
    "\n",
    "from astropy.io import fits as pyfits\n",
    "\n",
    "import sep\n",
    "import cv2\n",
    "\n",
    "from scipy.stats import binned_statistic_2d, binned_statistic\n",
    "from skimage.measure import block_reduce\n",
    "from skimage.util import view_as_blocks\n",
    "from scipy.ndimage.filters import gaussian_filter\n",
    "import scipy.optimize as opt"
   ]
  },
  {
   "cell_type": "markdown",
   "metadata": {},
   "source": [
    "## Code from David Kirkby \n",
    "https://github.com/dkirkby/AstroCCD/blob/master/LabData.ipynb"
   ]
  },
  {
   "cell_type": "code",
   "execution_count": 3,
   "metadata": {
    "execution": {
     "iopub.execute_input": "2024-02-24T02:38:20.747317Z",
     "iopub.status.busy": "2024-02-24T02:38:20.747189Z",
     "iopub.status.idle": "2024-02-24T02:38:20.776732Z",
     "shell.execute_reply": "2024-02-24T02:38:20.776334Z",
     "shell.execute_reply.started": "2024-02-24T02:38:20.747299Z"
    }
   },
   "outputs": [],
   "source": [
    "import numpy\n",
    "import scipy\n",
    "\n",
    "def block_view(A, block_shape):\n",
    "    \"\"\"Provide a 2D block view of a 2D array.\n",
    "    \n",
    "    Returns a view with shape (n, m, a, b) for an input 2D array with\n",
    "    shape (n*a, m*b) and block_shape of (a, b).\n",
    "    \"\"\"\n",
    "    assert len(A.shape) == 2, '2D input array is required.'\n",
    "    assert A.shape[0] % block_shape[0] == 0, 'Block shape[0] does not evenly divide array shape[0].'\n",
    "    assert A.shape[1] % block_shape[1] == 0, 'Block shape[1] does not evenly divide array shape[1].'\n",
    "    shape = (A.shape[0] / block_shape[0], A.shape[1] / block_shape[1]) + block_shape\n",
    "    strides = (block_shape[0] * A.strides[0], block_shape[1] * A.strides[1]) + A.strides\n",
    "    return numpy.lib.stride_tricks.as_strided(A, shape=shape, strides=strides)\n",
    "\n",
    "def apply_filter(A, smoothing, power=2.0):\n",
    "    \"\"\"Apply a hi/lo pass filter to a 2D image.\n",
    "    \n",
    "    The value of smoothing specifies the cutoff wavelength in pixels,\n",
    "    with a value >0 (<0) applying a hi-pass (lo-pass) filter. The\n",
    "    lo- and hi-pass filters sum to one by construction.  The power\n",
    "    parameter determines the sharpness of the filter, with higher\n",
    "    values giving a sharper transition.\n",
    "    \"\"\"\n",
    "    if smoothing == 0:\n",
    "        return A\n",
    "    ny, nx = A.shape\n",
    "    # Round down dimensions to even values for rfft.\n",
    "    # Any trimmed row or column will be unfiltered in the output.\n",
    "    nx = 2 * (nx // 2)\n",
    "    ny = 2 * (ny // 2)\n",
    "    T = np.fft.rfft2(A[:ny, :nx])\n",
    "    # Last axis (kx) uses rfft encoding.\n",
    "    kx = np.fft.rfftfreq(nx)\n",
    "    ky = np.fft.fftfreq(ny)\n",
    "    kpow = (kx ** 2 + ky[:, np.newaxis] ** 2) ** (power / 2.)\n",
    "    k0pow = (1. / smoothing) ** power\n",
    "    if smoothing > 0:\n",
    "        F = kpow / (k0pow + kpow) # high pass\n",
    "    else:\n",
    "        F = k0pow / (k0pow + kpow) # low pass\n",
    "    S = A.copy()\n",
    "    S[:ny, :nx] = np.fft.irfft2(T * F)\n",
    "    return S\n",
    "\n",
    "def zero_by_region(data, region_shape, num_sigmas_clip=4.0, smoothing=250, power=4):\n",
    "    \"\"\"Subtract the clipped median signal in each amplifier region.\n",
    "    \n",
    "    Optionally also remove any smooth variation in the mean signal with\n",
    "    a high-pass filter controlled by the smoothing and power parameters.\n",
    "    Returns a an array of median levels in each region and a mask of\n",
    "    unclipped pixels.\n",
    "    \"\"\"\n",
    "    mask = np.zeros_like(data, dtype=bool)\n",
    "\n",
    "    # Loop over amplifier regions.\n",
    "    regions = block_view(data, region_shape)\n",
    "    masks = block_view(mask, region_shape)\n",
    "    ny, nx = regions.shape[:2]\n",
    "    levels = np.empty((ny, nx))\n",
    "  \n",
    "    for y in range(ny):\n",
    "        for x in range(nx):\n",
    "            region_data = regions[y, x]\n",
    "            region_mask = masks[y, x]\n",
    "            clipped1d, lo, hi = scipy.stats.sigmaclip(\n",
    "                region_data, num_sigmas_clip, num_sigmas_clip)\n",
    "            # Add unclipped pixels to the mask.\n",
    "            region_mask[(region_data > lo) & (region_data < hi)] = True            \n",
    "            # Subtract the clipped median in place.\n",
    "            levels[y, x] = np.median(clipped1d)\n",
    "            region_data -= levels[y, x]\n",
    "            # Smooth this region's data.\n",
    "            if smoothing != 0:\n",
    "                clipped_data = region_data[~region_mask]\n",
    "                region_data[~region_mask] = 0.\n",
    "                region_data[:] = apply_filter(region_data, smoothing, power)\n",
    "                region_data[~region_mask] = clipped_data\n",
    "                \n",
    "    return levels, mask\n",
    "\n",
    "def measure_profile(data, mask, line_start, line_stop, sigma=50, num_bins=50):\n",
    "    \"\"\"Measure a 1D profile along a line through 2D data.\n",
    "    \n",
    "    The sigma parameter determines the effective width of the measurement line\n",
    "    in units of pixels, and is used to apply Gaussian weights as a function of\n",
    "    transverse distance from the line. Returns a pair of functions to draw the\n",
    "    measurement line and measured profile.\n",
    "    \"\"\"\n",
    "    x1, y1 = line_start\n",
    "    x2, y2 = line_stop\n",
    "    dx, dy = x2 - x1, y2 - y1\n",
    "    dr = np.sqrt(dx ** 2 + dy ** 2)\n",
    "    \n",
    "    # Calculate the rotation angle that puts the line along +x.\n",
    "    th = np.arctan2(dy, dx)\n",
    "    sin_th, cos_th = np.sin(th), np.cos(th)\n",
    "    \n",
    "    # Calculate pixel distances relative to the line.\n",
    "    ny, nx = data.shape\n",
    "    x, y = np.arange(nx), np.arange(ny)[:, np.newaxis]    \n",
    "    u = (cos_th * (x - x1) + sin_th * (y - y1))\n",
    "    v = (-sin_th * (x - x1) + cos_th * (y - y1))\n",
    "    \n",
    "    # Use Gaussian weighting in the transverse direction.\n",
    "    wgt = np.exp(-0.5 * (v / sigma) ** 2)\n",
    "    M = mask & (u >= 0) & (u <= dr)\n",
    "\n",
    "    # Calculate the 1D profile histogram.\n",
    "    D = u[M].reshape(-1)\n",
    "    W1 = data[M].reshape(-1)\n",
    "    W2 = wgt[M].reshape(-1)\n",
    "    profile, edges = np.histogram(D, bins=num_bins, range=(0, dr), weights=W1 * W2)\n",
    "    wsum, edges = np.histogram(D, bins=num_bins, range=(0, dr), weights=W2)\n",
    "    profile /= wsum\n",
    "    centers = edges[1:] - 0.5 * dr / num_bins\n",
    "    ymax = 1.1 * np.max(np.abs(profile))\n",
    "    \n",
    "    # Draw the measurement line on scaled axes. The width indicates +/-sigma.\n",
    "    corners = np.array([[0, -sigma], [0, +sigma], [dr, +sigma], [dr, -sigma]])\n",
    "    R = np.array([[cos_th, sin_th], [-sin_th, cos_th]])\n",
    "    corners = corners.dot(R)\n",
    "    corners += [x1, y1]\n",
    "    def draw_line(axes, scale):\n",
    "        poly = matplotlib.patches.Polygon(\n",
    "            corners / scale, fc='w', ec='k', alpha=0.75)\n",
    "        axes.add_patch(poly)\n",
    "\n",
    "    # Profile has x units of pixels and y units of ADU. Axis values are not\n",
    "    # drawn but grid line spacing is fixed at the specified values.\n",
    "    def draw_profile(axes, xgrid=10, ygrid=2):\n",
    "        print ('Profile grid spacing is {0} pixels, {1} ADU.').format(xgrid, ygrid)\n",
    "        axes.plot(centers, profile, 'k.-')\n",
    "        axes.set_xlim(0, dr)\n",
    "        axes.set_ylim(-ymax, +ymax)        \n",
    "        axes.set_xticks(np.arange(0, dr, xgrid))\n",
    "        ygrid = np.arange(ygrid, ymax, ygrid)\n",
    "        axes.set_yticks(np.hstack((-ygrid[::-1], ygrid)))\n",
    "        axes.grid(c='b', ls='-', alpha=0.5)\n",
    "        axes.axhline(0, c='r', ls='-', lw=2)\n",
    "        # This removes the axis labels but not the space they occupied.\n",
    "        axes.xaxis.set_ticklabels([])\n",
    "        axes.yaxis.set_ticklabels([])\n",
    "        \n",
    "    return draw_line, draw_profile"
   ]
  },
  {
   "cell_type": "markdown",
   "metadata": {},
   "source": [
    "## My own code"
   ]
  },
  {
   "cell_type": "code",
   "execution_count": 4,
   "metadata": {
    "execution": {
     "iopub.execute_input": "2024-02-24T02:38:20.781540Z",
     "iopub.status.busy": "2024-02-24T02:38:20.781419Z",
     "iopub.status.idle": "2024-02-24T02:38:20.798261Z",
     "shell.execute_reply": "2024-02-24T02:38:20.797900Z",
     "shell.execute_reply.started": "2024-02-24T02:38:20.781527Z"
    }
   },
   "outputs": [],
   "source": [
    "def get_diff(image, size=64):\n",
    "    bg = sep.Background(image.astype(np.double), bw=size, bh=size)\n",
    "    diff = (image-bg.back())/bg.back()\n",
    "\n",
    "    return diff\n",
    "\n",
    "def get_diff_lowpass(image, size=250, power=4.0, use_zero=True, geometry=(2,8)):\n",
    "    if use_zero:\n",
    "        image1 = image.copy()\n",
    "        levels,mask = zero_by_region(image1, (image1.shape[0]/geometry[0], image1.shape[1]/geometry[1]))\n",
    "\n",
    "        return image1/image\n",
    "    else:\n",
    "        diff = apply_filter(image, size, power=power)\n",
    "    \n",
    "        return diff/image\n",
    "\n",
    "def apply_to_blocks(image, fn, geometry=(2,8)):\n",
    "    image1 = image.copy()\n",
    "\n",
    "    v = view_as_blocks(image1, (image1.shape[0]/geometry[0], image1.shape[1]/geometry[1]))\n",
    "\n",
    "    for _ in xrange(geometry[0]):\n",
    "        for __ in xrange(geometry[1]):\n",
    "            v[_,__] = fn(v[_,__])\n",
    "\n",
    "    return image1"
   ]
  },
  {
   "cell_type": "code",
   "execution_count": 5,
   "metadata": {
    "execution": {
     "iopub.execute_input": "2024-02-24T02:38:21.011390Z",
     "iopub.status.busy": "2024-02-24T02:38:21.011235Z",
     "iopub.status.idle": "2024-02-24T02:38:21.036494Z",
     "shell.execute_reply": "2024-02-24T02:38:21.036084Z",
     "shell.execute_reply.started": "2024-02-24T02:38:21.011373Z"
    }
   },
   "outputs": [],
   "source": [
    "from mpl_toolkits.axes_grid1 import make_axes_locatable\n",
    "\n",
    "def colorbar(obj=None, ax=None, size=\"5%\", pad=0.1):\n",
    "    should_restore = False\n",
    "\n",
    "    if obj is not None:\n",
    "        ax = obj.axes\n",
    "    elif ax is None:\n",
    "        ax = plt.gca()\n",
    "        should_restore = True\n",
    "\n",
    "    # create an axes on the right side of ax. The width of cax will be 5%\n",
    "    # of ax and the padding between cax and ax will be fixed at 0.05 inch.\n",
    "    divider = make_axes_locatable(ax)\n",
    "    cax = divider.append_axes(\"right\", size=size, pad=pad)\n",
    "\n",
    "    plt.colorbar(obj, cax=cax)\n",
    "\n",
    "    if should_restore:\n",
    "        plt.sca(ax)\n",
    "\n",
    "def imshow(image, qq=[0.5,97.5], show_colorbar=True, **kwargs):\n",
    "    vmin1,vmax1 = np.percentile(image[np.isfinite(image)], qq)\n",
    "    if not 'vmin' in kwargs:\n",
    "        kwargs['vmin'] = vmin1\n",
    "    if not 'vmax' in kwargs:\n",
    "        kwargs['vmax'] = vmax1\n",
    "    plt.imshow(image, **kwargs)\n",
    "    if show_colorbar:\n",
    "        colorbar()"
   ]
  },
  {
   "cell_type": "markdown",
   "metadata": {},
   "source": [
    "### Testing on actual data"
   ]
  },
  {
   "cell_type": "code",
   "execution_count": 6,
   "metadata": {
    "execution": {
     "iopub.execute_input": "2024-02-24T02:38:21.041320Z",
     "iopub.status.busy": "2024-02-24T02:38:21.041198Z",
     "iopub.status.idle": "2024-02-24T02:38:22.086365Z",
     "shell.execute_reply": "2024-02-24T02:38:22.085907Z",
     "shell.execute_reply.started": "2024-02-24T02:38:21.041301Z"
    }
   },
   "outputs": [],
   "source": [
    "from lsst.daf.butler import Butler\n",
    "\n",
    "repo_path = \"/repo/ir2\"\n",
    "butler = Butler(repo_path,collections=['LSSTCam/raw/all'],instrument='LSSTCam')\n",
    "registry = butler.registry"
   ]
  },
  {
   "cell_type": "code",
   "execution_count": 7,
   "metadata": {
    "execution": {
     "iopub.execute_input": "2024-02-24T02:38:22.088924Z",
     "iopub.status.busy": "2024-02-24T02:38:22.088639Z",
     "iopub.status.idle": "2024-02-24T02:38:22.125552Z",
     "shell.execute_reply": "2024-02-24T02:38:22.125152Z",
     "shell.execute_reply.started": "2024-02-24T02:38:22.088910Z"
    }
   },
   "outputs": [
    {
     "data": {
      "text/plain": [
       "50"
      ]
     },
     "execution_count": 7,
     "metadata": {},
     "output_type": "execute_result"
    }
   ],
   "source": [
    "sensor=\"R12_S12\"\n",
    "# R23_S00, R14_S00, R14_S01, R14_S01, R14,S22, R34_S12, R34_S01, R34_S02, R34_S10, R12_S12, R12_S00, R12_S01, R12_S22, R33_S00, R33_S01, R33_S21, R01_S21, R30_S01, R30_S10, R02_S22, R02_S20, R32_S00, R42_S10, R11_S12, R11_S02, R11_S22, R11_S10, R11_S11, R41_S02, R10_S02, R22_S01, R22_S22, R22_S20\n",
    "\n",
    "detector=list(registry.queryDimensionRecords(\"detector\",instrument='LSSTCam',where=f\"detector.full_name='{sensor}'\"))[0].id\n",
    "detector"
   ]
  },
  {
   "cell_type": "code",
   "execution_count": 8,
   "metadata": {
    "execution": {
     "iopub.execute_input": "2024-02-24T02:38:22.131666Z",
     "iopub.status.busy": "2024-02-24T02:38:22.131542Z",
     "iopub.status.idle": "2024-02-24T02:38:22.301550Z",
     "shell.execute_reply": "2024-02-24T02:38:22.301109Z",
     "shell.execute_reply.started": "2024-02-24T02:38:22.131654Z"
    }
   },
   "outputs": [
    {
     "data": {
      "text/plain": [
       "['u/jchiang/eo_run_info_13379_w_2023_24/20230620T185737Z',\n",
       " 'u/jchiang/eo_flat_gain_stability_13379_w_2023_24/20230622T194624Z',\n",
       " 'u/jchiang/eo_flat_gain_stability_13379_w_2023_24/20230622T205500Z',\n",
       " 'u/jchiang/eo_flat_gain_stability_13379_w_2023_24/20230622T172459Z',\n",
       " 'u/jchiang/eo_run_info_13379_w_2023_24',\n",
       " 'u/jchiang/eo_flat_gain_stability_13379_w_2023_24']"
      ]
     },
     "execution_count": 8,
     "metadata": {},
     "output_type": "execute_result"
    }
   ],
   "source": [
    "registry.queryCollections('*13379*')"
   ]
  },
  {
   "cell_type": "code",
   "execution_count": 9,
   "metadata": {
    "execution": {
     "iopub.execute_input": "2024-02-24T02:38:22.303841Z",
     "iopub.status.busy": "2024-02-24T02:38:22.303714Z",
     "iopub.status.idle": "2024-02-24T02:38:22.553656Z",
     "shell.execute_reply": "2024-02-24T02:38:22.553138Z",
     "shell.execute_reply.started": "2024-02-24T02:38:22.303829Z"
    }
   },
   "outputs": [],
   "source": [
    "where = f\"exposure.science_program = '13379' and detector={detector} and exposure.exposure_time > 14. and exposure.observation_reason='sflat_hi'\"\n",
    "refs = list(set(butler.registry.queryDatasets(\n",
    "    'raw',\n",
    "    where=where,\n",
    "    collections='LSSTCam/raw/all')))"
   ]
  },
  {
   "cell_type": "code",
   "execution_count": 10,
   "metadata": {
    "execution": {
     "iopub.execute_input": "2024-02-24T02:38:22.561792Z",
     "iopub.status.busy": "2024-02-24T02:38:22.561505Z",
     "iopub.status.idle": "2024-02-24T02:38:27.152350Z",
     "shell.execute_reply": "2024-02-24T02:38:27.151847Z",
     "shell.execute_reply.started": "2024-02-24T02:38:22.561778Z"
    }
   },
   "outputs": [],
   "source": [
    "ptc = butler.get('ptc', collections='u/abrought/run6/ptc.2024.02.15', instrument=\"LSSTCam\", detector=detector)\n",
    "linearity = butler.get('linearizer', detector=detector, instrument='LSSTCam', collections='u/abrought/run6/linearizer.2024.02.11')\n",
    "defects = butler.get('defects', detector=detector, instrument='LSSTCam', collections='u/lsstccs/defects_13557_w_2023_49')\n",
    "bias = butler.get('bias', detector=detector, instrument='LSSTCam', collections='u/lsstccs/defects_13557_w_2023_49')\n",
    "dark = butler.get('dark', detector=detector, instrument='LSSTCam', collections='u/lsstccs/defects_13557_w_2023_49')"
   ]
  },
  {
   "cell_type": "code",
   "execution_count": null,
   "metadata": {
    "execution": {
     "iopub.execute_input": "2024-02-24T02:38:27.155505Z",
     "iopub.status.busy": "2024-02-24T02:38:27.155171Z"
    }
   },
   "outputs": [
    {
     "data": {
      "text/html": [
       "<pre style=\"margin: 0.1em;\n",
       "padding-left: 0.25em;\n",
       "border-left-style: solid;\n",
       "font-family: var(--jp-code-font-family);\n",
       "font-size: var(--jp-code-font-size);\n",
       "line-height: var(--jp-code-line-height);\n",
       "\"><span style=\"color: var(--jp-warn-color2)\">botocore.credentials</span> <span style=\"color: var(--jp-info-color0)\">INFO</span>: Found credentials in shared credentials file: /home/y/youtsumi/.lsst/aws-credentials.ini</pre>"
      ],
      "text/plain": [
       "<IPython.core.display.HTML object>"
      ]
     },
     "metadata": {},
     "output_type": "display_data"
    },
    {
     "data": {
      "text/html": [
       "<pre style=\"margin: 0.1em;\n",
       "padding-left: 0.25em;\n",
       "border-left-style: solid;\n",
       "font-family: var(--jp-code-font-family);\n",
       "font-size: var(--jp-code-font-size);\n",
       "line-height: var(--jp-code-line-height);\n",
       "\"><span style=\"color: var(--jp-warn-color2)\">lsst.isr</span> <span style=\"color: var(--jp-info-color0)\">INFO</span>: Converting exposure to floating point values.</pre>"
      ],
      "text/plain": [
       "<IPython.core.display.HTML object>"
      ]
     },
     "metadata": {},
     "output_type": "display_data"
    },
    {
     "data": {
      "text/html": [
       "<pre style=\"margin: 0.1em;\n",
       "padding-left: 0.25em;\n",
       "border-left-style: solid;\n",
       "font-family: var(--jp-code-font-family);\n",
       "font-size: var(--jp-code-font-size);\n",
       "line-height: var(--jp-code-line-height);\n",
       "\"><span style=\"color: var(--jp-warn-color2)\">lsst.ip.isr.calibType</span> <span style=\"color: var(--jp-warn-color0)\">WARNING</span>: Invalid PTC turnoff value: nan Setting to default: PTC Turnoff=2e19</pre>"
      ],
      "text/plain": [
       "<IPython.core.display.HTML object>"
      ]
     },
     "metadata": {},
     "output_type": "display_data"
    },
    {
     "data": {
      "text/html": [
       "<pre style=\"margin: 0.1em;\n",
       "padding-left: 0.25em;\n",
       "border-left-style: solid;\n",
       "font-family: var(--jp-code-font-family);\n",
       "font-size: var(--jp-code-font-size);\n",
       "line-height: var(--jp-code-line-height);\n",
       "\"><span style=\"color: var(--jp-warn-color2)\">lsst.isr</span> <span style=\"color: var(--jp-info-color0)\">INFO</span>: Det: R12_S12 - Noise provenance: amp, Gain provenance: amp</pre>"
      ],
      "text/plain": [
       "<IPython.core.display.HTML object>"
      ]
     },
     "metadata": {},
     "output_type": "display_data"
    },
    {
     "data": {
      "text/html": [
       "<pre style=\"margin: 0.1em;\n",
       "padding-left: 0.25em;\n",
       "border-left-style: solid;\n",
       "font-family: var(--jp-code-font-family);\n",
       "font-size: var(--jp-code-font-size);\n",
       "line-height: var(--jp-code-line-height);\n",
       "\"><span style=\"color: var(--jp-warn-color2)\">lsst.isr</span> <span style=\"color: var(--jp-info-color0)\">INFO</span>: Assembling CCD from amplifiers.</pre>"
      ],
      "text/plain": [
       "<IPython.core.display.HTML object>"
      ]
     },
     "metadata": {},
     "output_type": "display_data"
    },
    {
     "data": {
      "text/html": [
       "<pre style=\"margin: 0.1em;\n",
       "padding-left: 0.25em;\n",
       "border-left-style: solid;\n",
       "font-family: var(--jp-code-font-family);\n",
       "font-size: var(--jp-code-font-size);\n",
       "line-height: var(--jp-code-line-height);\n",
       "\"><span style=\"color: var(--jp-warn-color2)\">lsst.isr</span> <span style=\"color: var(--jp-warn-color0)\">WARNING</span>: No WCS found in input exposure.</pre>"
      ],
      "text/plain": [
       "<IPython.core.display.HTML object>"
      ]
     },
     "metadata": {},
     "output_type": "display_data"
    },
    {
     "data": {
      "text/html": [
       "<pre style=\"margin: 0.1em;\n",
       "padding-left: 0.25em;\n",
       "border-left-style: solid;\n",
       "font-family: var(--jp-code-font-family);\n",
       "font-size: var(--jp-code-font-size);\n",
       "line-height: var(--jp-code-line-height);\n",
       "\"><span style=\"color: var(--jp-warn-color2)\">lsst.isr</span> <span style=\"color: var(--jp-info-color0)\">INFO</span>: Applying bias correction.</pre>"
      ],
      "text/plain": [
       "<IPython.core.display.HTML object>"
      ]
     },
     "metadata": {},
     "output_type": "display_data"
    },
    {
     "data": {
      "text/html": [
       "<pre style=\"margin: 0.1em;\n",
       "padding-left: 0.25em;\n",
       "border-left-style: solid;\n",
       "font-family: var(--jp-code-font-family);\n",
       "font-size: var(--jp-code-font-size);\n",
       "line-height: var(--jp-code-line-height);\n",
       "\"><span style=\"color: var(--jp-warn-color2)\">lsst.isr</span> <span style=\"color: var(--jp-info-color0)\">INFO</span>: Applying linearizer.</pre>"
      ],
      "text/plain": [
       "<IPython.core.display.HTML object>"
      ]
     },
     "metadata": {},
     "output_type": "display_data"
    },
    {
     "data": {
      "text/html": [
       "<pre style=\"margin: 0.1em;\n",
       "padding-left: 0.25em;\n",
       "border-left-style: solid;\n",
       "font-family: var(--jp-code-font-family);\n",
       "font-size: var(--jp-code-font-size);\n",
       "line-height: var(--jp-code-line-height);\n",
       "\"><span style=\"color: var(--jp-warn-color2)\">lsst.ip.isr.calibType</span> <span style=\"color: var(--jp-warn-color0)\">WARNING</span>: Overriding amplifier defined linearityType (Spline) for C10</pre>"
      ],
      "text/plain": [
       "<IPython.core.display.HTML object>"
      ]
     },
     "metadata": {},
     "output_type": "display_data"
    },
    {
     "data": {
      "text/html": [
       "<pre style=\"margin: 0.1em;\n",
       "padding-left: 0.25em;\n",
       "border-left-style: solid;\n",
       "font-family: var(--jp-code-font-family);\n",
       "font-size: var(--jp-code-font-size);\n",
       "line-height: var(--jp-code-line-height);\n",
       "\"><span style=\"color: var(--jp-warn-color2)\">lsst.ip.isr.calibType</span> <span style=\"color: var(--jp-warn-color0)\">WARNING</span>: Overriding amplifier defined linearityCoeffs ([ 0.00000000e+00  4.60359632e+03  9.20719265e+03  1.38107890e+04\n",
       "  1.84143853e+04  2.30179816e+04  2.76215779e+04  3.22251743e+04\n",
       "  3.68287706e+04  4.14323669e+04  4.60359632e+04  5.06395596e+04\n",
       "  5.52431559e+04  5.98467522e+04  6.44503485e+04  6.90539448e+04\n",
       "  7.36575412e+04  7.82611375e+04  8.28647338e+04  8.74683301e+04\n",
       "  0.00000000e+00  3.69305540e+00  1.10888258e+01  1.84856673e+01\n",
       "  3.38303108e+01  4.92243411e+01  6.12584096e+01  6.09706266e+01\n",
       "  6.92981384e+01  6.92192444e+01  4.06474824e+01  2.30299669e+01\n",
       " -2.39507903e+01 -5.16200592e+01 -7.25666547e+01 -8.16580631e+01\n",
       " -6.69958347e+01 -6.17249905e+01 -4.28069286e+01 -7.39615074e+01]) for C10</pre>"
      ],
      "text/plain": [
       "<IPython.core.display.HTML object>"
      ]
     },
     "metadata": {},
     "output_type": "display_data"
    },
    {
     "data": {
      "text/html": [
       "<pre style=\"margin: 0.1em;\n",
       "padding-left: 0.25em;\n",
       "border-left-style: solid;\n",
       "font-family: var(--jp-code-font-family);\n",
       "font-size: var(--jp-code-font-size);\n",
       "line-height: var(--jp-code-line-height);\n",
       "\"><span style=\"color: var(--jp-warn-color2)\">lsst.ip.isr.calibType</span> <span style=\"color: var(--jp-warn-color0)\">WARNING</span>: Overriding amplifier defined linearityType (Spline) for C11</pre>"
      ],
      "text/plain": [
       "<IPython.core.display.HTML object>"
      ]
     },
     "metadata": {},
     "output_type": "display_data"
    },
    {
     "data": {
      "text/html": [
       "<pre style=\"margin: 0.1em;\n",
       "padding-left: 0.25em;\n",
       "border-left-style: solid;\n",
       "font-family: var(--jp-code-font-family);\n",
       "font-size: var(--jp-code-font-size);\n",
       "line-height: var(--jp-code-line-height);\n",
       "\"><span style=\"color: var(--jp-warn-color2)\">lsst.ip.isr.calibType</span> <span style=\"color: var(--jp-warn-color0)\">WARNING</span>: Overriding amplifier defined linearityCoeffs ([ 0.00000000e+00  4.51526555e+03  9.03053110e+03  1.35457967e+04\n",
       "  1.80610622e+04  2.25763278e+04  2.70915933e+04  3.16068589e+04\n",
       "  3.61221244e+04  4.06373900e+04  4.51526555e+04  4.96679211e+04\n",
       "  5.41831866e+04  5.86984522e+04  6.32137177e+04  6.77289833e+04\n",
       "  7.22442488e+04  7.67595144e+04  8.12747799e+04  8.57900455e+04\n",
       "  0.00000000e+00 -1.12438784e+00  3.63976698e+00  9.24867659e+00\n",
       "  2.07861332e+01  3.23235535e+01  4.51567340e+01  4.39815491e+01\n",
       "  5.38609754e+01  5.35533685e+01  4.05882716e+01  1.69102620e+01\n",
       " -1.40388130e+01 -5.02956174e+01 -5.71061333e+01 -8.19363420e+01\n",
       " -4.30151930e+01 -5.08696128e+01 -1.70691417e+01 -7.50701253e+00]) for C11</pre>"
      ],
      "text/plain": [
       "<IPython.core.display.HTML object>"
      ]
     },
     "metadata": {},
     "output_type": "display_data"
    },
    {
     "data": {
      "text/html": [
       "<pre style=\"margin: 0.1em;\n",
       "padding-left: 0.25em;\n",
       "border-left-style: solid;\n",
       "font-family: var(--jp-code-font-family);\n",
       "font-size: var(--jp-code-font-size);\n",
       "line-height: var(--jp-code-line-height);\n",
       "\"><span style=\"color: var(--jp-warn-color2)\">lsst.ip.isr.calibType</span> <span style=\"color: var(--jp-warn-color0)\">WARNING</span>: Overriding amplifier defined linearityType (Spline) for C12</pre>"
      ],
      "text/plain": [
       "<IPython.core.display.HTML object>"
      ]
     },
     "metadata": {},
     "output_type": "display_data"
    },
    {
     "data": {
      "text/html": [
       "<pre style=\"margin: 0.1em;\n",
       "padding-left: 0.25em;\n",
       "border-left-style: solid;\n",
       "font-family: var(--jp-code-font-family);\n",
       "font-size: var(--jp-code-font-size);\n",
       "line-height: var(--jp-code-line-height);\n",
       "\"><span style=\"color: var(--jp-warn-color2)\">lsst.ip.isr.calibType</span> <span style=\"color: var(--jp-warn-color0)\">WARNING</span>: Overriding amplifier defined linearityCoeffs ([ 0.00000000e+00  4.41566780e+03  8.83133561e+03  1.32470034e+04\n",
       "  1.76626712e+04  2.20783390e+04  2.64940068e+04  3.09096746e+04\n",
       "  3.53253424e+04  3.97410102e+04  4.41566780e+04  4.85723458e+04\n",
       "  5.29880136e+04  5.74036814e+04  6.18193493e+04  6.62350171e+04\n",
       "  7.06506849e+04  7.50663527e+04  7.94820205e+04  8.38976883e+04\n",
       "  0.00000000e+00 -2.87927534e-01  4.35256687e+00  8.99319102e+00\n",
       "  1.80645065e+01  3.04476029e+01  4.11042473e+01  5.65049471e+01\n",
       "  6.54548383e+01  6.85211940e+01  5.79380505e+01  2.54775290e+01\n",
       "  7.96629804e+00 -3.96726637e+01 -5.63813877e+01 -7.95271162e+01\n",
       " -6.73180919e+01 -6.79142819e+01 -4.62517490e+01 -4.74357295e+01]) for C12</pre>"
      ],
      "text/plain": [
       "<IPython.core.display.HTML object>"
      ]
     },
     "metadata": {},
     "output_type": "display_data"
    },
    {
     "data": {
      "text/html": [
       "<pre style=\"margin: 0.1em;\n",
       "padding-left: 0.25em;\n",
       "border-left-style: solid;\n",
       "font-family: var(--jp-code-font-family);\n",
       "font-size: var(--jp-code-font-size);\n",
       "line-height: var(--jp-code-line-height);\n",
       "\"><span style=\"color: var(--jp-warn-color2)\">lsst.ip.isr.calibType</span> <span style=\"color: var(--jp-warn-color0)\">WARNING</span>: Overriding amplifier defined linearityType (Spline) for C13</pre>"
      ],
      "text/plain": [
       "<IPython.core.display.HTML object>"
      ]
     },
     "metadata": {},
     "output_type": "display_data"
    },
    {
     "data": {
      "text/html": [
       "<pre style=\"margin: 0.1em;\n",
       "padding-left: 0.25em;\n",
       "border-left-style: solid;\n",
       "font-family: var(--jp-code-font-family);\n",
       "font-size: var(--jp-code-font-size);\n",
       "line-height: var(--jp-code-line-height);\n",
       "\"><span style=\"color: var(--jp-warn-color2)\">lsst.ip.isr.calibType</span> <span style=\"color: var(--jp-warn-color0)\">WARNING</span>: Overriding amplifier defined linearityCoeffs ([ 0.00000000e+00  4.39130698e+03  8.78261396e+03  1.31739209e+04\n",
       "  1.75652279e+04  2.19565349e+04  2.63478419e+04  3.07391489e+04\n",
       "  3.51304558e+04  3.95217628e+04  4.39130698e+04  4.83043768e+04\n",
       "  5.26956838e+04  5.70869907e+04  6.14782977e+04  6.58696047e+04\n",
       "  7.02609117e+04  7.46522187e+04  7.90435256e+04  8.34348326e+04\n",
       "  0.00000000e+00 -8.76824750e+00 -1.54027428e+01  4.84046423e+00\n",
       " -4.56586263e+01  3.97610032e+00 -9.26888544e+00  4.39403852e+01\n",
       "  7.02799829e+01  7.31721264e+01  6.88304056e+01  3.64611723e+01\n",
       "  2.67716147e+01 -2.01379510e+01 -3.93841097e+01 -5.86302638e+01\n",
       " -5.28204656e+01 -4.23104394e+01 -2.86360203e+01 -7.53731859e+00]) for C13</pre>"
      ],
      "text/plain": [
       "<IPython.core.display.HTML object>"
      ]
     },
     "metadata": {},
     "output_type": "display_data"
    },
    {
     "data": {
      "text/html": [
       "<pre style=\"margin: 0.1em;\n",
       "padding-left: 0.25em;\n",
       "border-left-style: solid;\n",
       "font-family: var(--jp-code-font-family);\n",
       "font-size: var(--jp-code-font-size);\n",
       "line-height: var(--jp-code-line-height);\n",
       "\"><span style=\"color: var(--jp-warn-color2)\">lsst.ip.isr.calibType</span> <span style=\"color: var(--jp-warn-color0)\">WARNING</span>: Overriding amplifier defined linearityType (Spline) for C14</pre>"
      ],
      "text/plain": [
       "<IPython.core.display.HTML object>"
      ]
     },
     "metadata": {},
     "output_type": "display_data"
    },
    {
     "data": {
      "text/html": [
       "<pre style=\"margin: 0.1em;\n",
       "padding-left: 0.25em;\n",
       "border-left-style: solid;\n",
       "font-family: var(--jp-code-font-family);\n",
       "font-size: var(--jp-code-font-size);\n",
       "line-height: var(--jp-code-line-height);\n",
       "\"><span style=\"color: var(--jp-warn-color2)\">lsst.ip.isr.calibType</span> <span style=\"color: var(--jp-warn-color0)\">WARNING</span>: Overriding amplifier defined linearityCoeffs ([ 0.00000000e+00  4.29967716e+03  8.59935432e+03  1.28990315e+04\n",
       "  1.71987086e+04  2.14983858e+04  2.57980630e+04  3.00977401e+04\n",
       "  3.43974173e+04  3.86970945e+04  4.29967716e+04  4.72964488e+04\n",
       "  5.15961259e+04  5.58958031e+04  6.01954803e+04  6.44951574e+04\n",
       "  6.87948346e+04  7.30945118e+04  7.73941889e+04  8.16938661e+04\n",
       "  0.00000000e+00  7.31560395e-01  1.46315234e+00  1.31173834e+01\n",
       "  1.69032074e+01  3.27535757e+01  4.35012883e+01  5.17035144e+01\n",
       "  5.98777300e+01  6.19924152e+01  6.09433908e+01  2.46748782e+01\n",
       "  1.55510597e+01 -3.12388636e+01 -5.52165931e+01 -6.85700806e+01\n",
       " -8.62320638e+01 -5.66051765e+01 -6.29466482e+01 -3.07846609e+01]) for C14</pre>"
      ],
      "text/plain": [
       "<IPython.core.display.HTML object>"
      ]
     },
     "metadata": {},
     "output_type": "display_data"
    },
    {
     "data": {
      "text/html": [
       "<pre style=\"margin: 0.1em;\n",
       "padding-left: 0.25em;\n",
       "border-left-style: solid;\n",
       "font-family: var(--jp-code-font-family);\n",
       "font-size: var(--jp-code-font-size);\n",
       "line-height: var(--jp-code-line-height);\n",
       "\"><span style=\"color: var(--jp-warn-color2)\">lsst.ip.isr.calibType</span> <span style=\"color: var(--jp-warn-color0)\">WARNING</span>: Overriding amplifier defined linearityType (Spline) for C15</pre>"
      ],
      "text/plain": [
       "<IPython.core.display.HTML object>"
      ]
     },
     "metadata": {},
     "output_type": "display_data"
    },
    {
     "data": {
      "text/html": [
       "<pre style=\"margin: 0.1em;\n",
       "padding-left: 0.25em;\n",
       "border-left-style: solid;\n",
       "font-family: var(--jp-code-font-family);\n",
       "font-size: var(--jp-code-font-size);\n",
       "line-height: var(--jp-code-line-height);\n",
       "\"><span style=\"color: var(--jp-warn-color2)\">lsst.ip.isr.calibType</span> <span style=\"color: var(--jp-warn-color0)\">WARNING</span>: Overriding amplifier defined linearityCoeffs ([ 0.00000000e+00  4.38717092e+03  8.77434185e+03  1.31615128e+04\n",
       "  1.75486837e+04  2.19358546e+04  2.63230255e+04  3.07101965e+04\n",
       "  3.50973674e+04  3.94845383e+04  4.38717092e+04  4.82588802e+04\n",
       "  5.26460511e+04  5.70332220e+04  6.14203929e+04  6.58075639e+04\n",
       "  7.01947348e+04  7.45819057e+04  7.89690766e+04  8.33562476e+04\n",
       "  0.00000000e+00 -3.28134184e+00 -1.23866299e+00  4.19626465e+00\n",
       "  1.22433069e+01  2.27102536e+01  3.31374080e+01  4.48998851e+01\n",
       "  5.66485747e+01  5.45441095e+01  5.24325017e+01  2.87616239e+01\n",
       "  5.23481132e+00 -2.98321433e+01 -5.70201472e+01 -6.03991831e+01\n",
       " -6.09401021e+01 -4.82351876e+01 -3.73862253e+01 -2.50870253e+01]) for C15</pre>"
      ],
      "text/plain": [
       "<IPython.core.display.HTML object>"
      ]
     },
     "metadata": {},
     "output_type": "display_data"
    },
    {
     "data": {
      "text/html": [
       "<pre style=\"margin: 0.1em;\n",
       "padding-left: 0.25em;\n",
       "border-left-style: solid;\n",
       "font-family: var(--jp-code-font-family);\n",
       "font-size: var(--jp-code-font-size);\n",
       "line-height: var(--jp-code-line-height);\n",
       "\"><span style=\"color: var(--jp-warn-color2)\">lsst.ip.isr.calibType</span> <span style=\"color: var(--jp-warn-color0)\">WARNING</span>: Overriding amplifier defined linearityType (Spline) for C16</pre>"
      ],
      "text/plain": [
       "<IPython.core.display.HTML object>"
      ]
     },
     "metadata": {},
     "output_type": "display_data"
    },
    {
     "data": {
      "text/html": [
       "<pre style=\"margin: 0.1em;\n",
       "padding-left: 0.25em;\n",
       "border-left-style: solid;\n",
       "font-family: var(--jp-code-font-family);\n",
       "font-size: var(--jp-code-font-size);\n",
       "line-height: var(--jp-code-line-height);\n",
       "\"><span style=\"color: var(--jp-warn-color2)\">lsst.ip.isr.calibType</span> <span style=\"color: var(--jp-warn-color0)\">WARNING</span>: Overriding amplifier defined linearityCoeffs ([ 0.00000000e+00  4.37834850e+03  8.75669700e+03  1.31350455e+04\n",
       "  1.75133940e+04  2.18917425e+04  2.62700910e+04  3.06484395e+04\n",
       "  3.50267880e+04  3.94051365e+04  4.37834850e+04  4.81618335e+04\n",
       "  5.25401820e+04  5.69185305e+04  6.12968790e+04  6.56752275e+04\n",
       "  7.00535760e+04  7.44319245e+04  7.88102730e+04  8.31886215e+04\n",
       "  0.00000000e+00 -5.08366745e+00 -5.77795323e+00 -6.47199037e+00\n",
       " -3.84660724e+00  5.69767817e+00  3.20323774e+00  5.73195479e+01\n",
       "  7.37897976e+01  7.56822474e+01  6.95840359e+01  3.45784751e+01\n",
       "  2.11079238e+01 -2.87560378e+01 -4.74217258e+01 -6.41905441e+01\n",
       " -6.45085343e+01 -5.12585611e+01 -4.19568496e+01 -3.45670578e+01]) for C16</pre>"
      ],
      "text/plain": [
       "<IPython.core.display.HTML object>"
      ]
     },
     "metadata": {},
     "output_type": "display_data"
    },
    {
     "data": {
      "text/html": [
       "<pre style=\"margin: 0.1em;\n",
       "padding-left: 0.25em;\n",
       "border-left-style: solid;\n",
       "font-family: var(--jp-code-font-family);\n",
       "font-size: var(--jp-code-font-size);\n",
       "line-height: var(--jp-code-line-height);\n",
       "\"><span style=\"color: var(--jp-warn-color2)\">lsst.ip.isr.calibType</span> <span style=\"color: var(--jp-warn-color0)\">WARNING</span>: Overriding amplifier defined linearityType (Spline) for C17</pre>"
      ],
      "text/plain": [
       "<IPython.core.display.HTML object>"
      ]
     },
     "metadata": {},
     "output_type": "display_data"
    },
    {
     "data": {
      "text/html": [
       "<pre style=\"margin: 0.1em;\n",
       "padding-left: 0.25em;\n",
       "border-left-style: solid;\n",
       "font-family: var(--jp-code-font-family);\n",
       "font-size: var(--jp-code-font-size);\n",
       "line-height: var(--jp-code-line-height);\n",
       "\"><span style=\"color: var(--jp-warn-color2)\">lsst.ip.isr.calibType</span> <span style=\"color: var(--jp-warn-color0)\">WARNING</span>: Overriding amplifier defined linearityCoeffs ([ 0.00000000e+00  4.47863271e+03  8.95726541e+03  1.34358981e+04\n",
       "  1.79145308e+04  2.23931635e+04  2.68717962e+04  3.13504290e+04\n",
       "  3.58290617e+04  4.03076944e+04  4.47863271e+04  4.92649598e+04\n",
       "  5.37435925e+04  5.82222252e+04  6.27008579e+04  6.71794906e+04\n",
       "  7.16581233e+04  7.61367560e+04  8.06153887e+04  8.50940214e+04\n",
       "  0.00000000e+00  1.77131925e+00  7.78838949e+00  1.61800225e+01\n",
       "  2.69693960e+01  4.10483369e+01  5.41915068e+01  5.85888013e+01\n",
       "  6.76406681e+01  6.55109240e+01  5.44948215e+01  3.41427506e+01\n",
       " -6.67777381e+00 -4.74983050e+01 -6.07456455e+01 -7.82205265e+01\n",
       " -7.21276602e+01 -6.77809624e+01 -6.02113998e+01 -5.90567003e+01]) for C17</pre>"
      ],
      "text/plain": [
       "<IPython.core.display.HTML object>"
      ]
     },
     "metadata": {},
     "output_type": "display_data"
    },
    {
     "data": {
      "text/html": [
       "<pre style=\"margin: 0.1em;\n",
       "padding-left: 0.25em;\n",
       "border-left-style: solid;\n",
       "font-family: var(--jp-code-font-family);\n",
       "font-size: var(--jp-code-font-size);\n",
       "line-height: var(--jp-code-line-height);\n",
       "\"><span style=\"color: var(--jp-warn-color2)\">lsst.ip.isr.calibType</span> <span style=\"color: var(--jp-warn-color0)\">WARNING</span>: Overriding amplifier defined linearityType (Spline) for C07</pre>"
      ],
      "text/plain": [
       "<IPython.core.display.HTML object>"
      ]
     },
     "metadata": {},
     "output_type": "display_data"
    },
    {
     "data": {
      "text/html": [
       "<pre style=\"margin: 0.1em;\n",
       "padding-left: 0.25em;\n",
       "border-left-style: solid;\n",
       "font-family: var(--jp-code-font-family);\n",
       "font-size: var(--jp-code-font-size);\n",
       "line-height: var(--jp-code-line-height);\n",
       "\"><span style=\"color: var(--jp-warn-color2)\">lsst.ip.isr.calibType</span> <span style=\"color: var(--jp-warn-color0)\">WARNING</span>: Overriding amplifier defined linearityCoeffs ([ 0.00000000e+00  4.80691544e+03  9.61383088e+03  1.44207463e+04\n",
       "  1.92276618e+04  2.40345772e+04  2.88414926e+04  3.36484081e+04\n",
       "  3.84553235e+04  4.32622390e+04  4.80691544e+04  5.28760698e+04\n",
       "  5.76829853e+04  6.24899007e+04  6.72968162e+04  7.21037316e+04\n",
       "  7.69106470e+04  8.17175625e+04  8.65244779e+04  9.13313933e+04\n",
       "  0.00000000e+00 -4.26696133e+00 -1.65417634e+00  3.57805509e+00\n",
       "  1.11600572e+01  2.41052876e+01  3.34297034e+01  3.64337569e+01\n",
       "  3.94378056e+01  3.06549262e+01  1.38332817e+01 -1.35673928e+01\n",
       " -4.25321839e+01 -5.54266169e+01 -5.20671992e+01 -3.79444006e+01\n",
       " -1.81814586e+01 -1.76635922e+00  2.06778986e+01  2.38057883e+01]) for C07</pre>"
      ],
      "text/plain": [
       "<IPython.core.display.HTML object>"
      ]
     },
     "metadata": {},
     "output_type": "display_data"
    },
    {
     "data": {
      "text/html": [
       "<pre style=\"margin: 0.1em;\n",
       "padding-left: 0.25em;\n",
       "border-left-style: solid;\n",
       "font-family: var(--jp-code-font-family);\n",
       "font-size: var(--jp-code-font-size);\n",
       "line-height: var(--jp-code-line-height);\n",
       "\"><span style=\"color: var(--jp-warn-color2)\">lsst.ip.isr.calibType</span> <span style=\"color: var(--jp-warn-color0)\">WARNING</span>: Overriding amplifier defined linearityType (Spline) for C06</pre>"
      ],
      "text/plain": [
       "<IPython.core.display.HTML object>"
      ]
     },
     "metadata": {},
     "output_type": "display_data"
    },
    {
     "data": {
      "text/html": [
       "<pre style=\"margin: 0.1em;\n",
       "padding-left: 0.25em;\n",
       "border-left-style: solid;\n",
       "font-family: var(--jp-code-font-family);\n",
       "font-size: var(--jp-code-font-size);\n",
       "line-height: var(--jp-code-line-height);\n",
       "\"><span style=\"color: var(--jp-warn-color2)\">lsst.ip.isr.calibType</span> <span style=\"color: var(--jp-warn-color0)\">WARNING</span>: Overriding amplifier defined linearityCoeffs ([ 0.00000000e+00  4.82670689e+03  9.65341379e+03  1.44801207e+04\n",
       "  1.93068276e+04  2.41335345e+04  2.89602414e+04  3.37869482e+04\n",
       "  3.86136551e+04  4.34403620e+04  4.82670689e+04  5.30937758e+04\n",
       "  5.79204827e+04  6.27471896e+04  6.75738965e+04  7.24006034e+04\n",
       "  7.72273103e+04  8.20540172e+04  8.68807241e+04  9.17074310e+04\n",
       "  0.00000000e+00 -5.68189588e+00 -4.46202503e+00  4.59457423e-01\n",
       "  8.68174727e+00  2.05227806e+01  2.98929603e+01  3.34376222e+01\n",
       "  3.69822720e+01  3.14439965e+01  6.15236226e+00 -1.13721970e+01\n",
       " -4.98002818e+01 -5.64813968e+01 -4.74084358e+01 -3.51240140e+01\n",
       " -1.19480465e+01  5.94015373e+00  3.25471475e+01  2.51518315e+01]) for C06</pre>"
      ],
      "text/plain": [
       "<IPython.core.display.HTML object>"
      ]
     },
     "metadata": {},
     "output_type": "display_data"
    },
    {
     "data": {
      "text/html": [
       "<pre style=\"margin: 0.1em;\n",
       "padding-left: 0.25em;\n",
       "border-left-style: solid;\n",
       "font-family: var(--jp-code-font-family);\n",
       "font-size: var(--jp-code-font-size);\n",
       "line-height: var(--jp-code-line-height);\n",
       "\"><span style=\"color: var(--jp-warn-color2)\">lsst.ip.isr.calibType</span> <span style=\"color: var(--jp-warn-color0)\">WARNING</span>: Overriding amplifier defined linearityType (Spline) for C05</pre>"
      ],
      "text/plain": [
       "<IPython.core.display.HTML object>"
      ]
     },
     "metadata": {},
     "output_type": "display_data"
    },
    {
     "data": {
      "text/html": [
       "<pre style=\"margin: 0.1em;\n",
       "padding-left: 0.25em;\n",
       "border-left-style: solid;\n",
       "font-family: var(--jp-code-font-family);\n",
       "font-size: var(--jp-code-font-size);\n",
       "line-height: var(--jp-code-line-height);\n",
       "\"><span style=\"color: var(--jp-warn-color2)\">lsst.ip.isr.calibType</span> <span style=\"color: var(--jp-warn-color0)\">WARNING</span>: Overriding amplifier defined linearityCoeffs ([ 0.00000000e+00  4.75118697e+03  9.50237395e+03  1.42535609e+04\n",
       "  1.90047479e+04  2.37559349e+04  2.85071218e+04  3.32583088e+04\n",
       "  3.80094958e+04  4.27606828e+04  4.75118697e+04  5.22630567e+04\n",
       "  5.70142437e+04  6.17654306e+04  6.65166176e+04  7.12678046e+04\n",
       "  7.60189916e+04  8.07701785e+04  8.55213655e+04  9.02725525e+04\n",
       "  0.00000000e+00 -2.84343954e+00  2.65733944e-01  4.87321772e+00\n",
       "  1.47351314e+01  2.60765607e+01  3.57113602e+01  3.81913296e+01\n",
       "  4.06712977e+01  3.25979488e+01  1.30288397e+01 -1.37945295e+01\n",
       " -4.37338017e+01 -6.08321636e+01 -4.86789708e+01 -4.49511668e+01\n",
       " -1.98609425e+01 -4.70865285e+00  1.60491691e+01  3.13344077e+01]) for C05</pre>"
      ],
      "text/plain": [
       "<IPython.core.display.HTML object>"
      ]
     },
     "metadata": {},
     "output_type": "display_data"
    },
    {
     "data": {
      "text/html": [
       "<pre style=\"margin: 0.1em;\n",
       "padding-left: 0.25em;\n",
       "border-left-style: solid;\n",
       "font-family: var(--jp-code-font-family);\n",
       "font-size: var(--jp-code-font-size);\n",
       "line-height: var(--jp-code-line-height);\n",
       "\"><span style=\"color: var(--jp-warn-color2)\">lsst.ip.isr.calibType</span> <span style=\"color: var(--jp-warn-color0)\">WARNING</span>: Overriding amplifier defined linearityType (Spline) for C04</pre>"
      ],
      "text/plain": [
       "<IPython.core.display.HTML object>"
      ]
     },
     "metadata": {},
     "output_type": "display_data"
    },
    {
     "data": {
      "text/html": [
       "<pre style=\"margin: 0.1em;\n",
       "padding-left: 0.25em;\n",
       "border-left-style: solid;\n",
       "font-family: var(--jp-code-font-family);\n",
       "font-size: var(--jp-code-font-size);\n",
       "line-height: var(--jp-code-line-height);\n",
       "\"><span style=\"color: var(--jp-warn-color2)\">lsst.ip.isr.calibType</span> <span style=\"color: var(--jp-warn-color0)\">WARNING</span>: Overriding amplifier defined linearityCoeffs ([ 0.00000000e+00  4.73777410e+03  9.47554821e+03  1.42133223e+04\n",
       "  1.89510964e+04  2.36888705e+04  2.84266446e+04  3.31644187e+04\n",
       "  3.79021928e+04  4.26399669e+04  4.73777410e+04  5.21155152e+04\n",
       "  5.68532893e+04  6.15910634e+04  6.63288375e+04  7.10666116e+04\n",
       "  7.58043857e+04  8.05421598e+04  8.52799339e+04  9.00177080e+04\n",
       "  0.00000000e+00 -9.28420236e+00 -1.17578115e+01 -1.42308600e+01\n",
       " -1.11573252e+01 -1.07415418e+00  3.24812313e+00  3.04664909e+01\n",
       "  3.41893453e+01  3.39475238e+01  1.29182964e+01 -1.24524475e+01\n",
       " -3.41389808e+01 -5.23563113e+01 -3.45496473e+01 -4.39818140e+01\n",
       "  8.28064415e+00  1.00755816e+01  5.40961358e+01  6.41390017e+01]) for C04</pre>"
      ],
      "text/plain": [
       "<IPython.core.display.HTML object>"
      ]
     },
     "metadata": {},
     "output_type": "display_data"
    },
    {
     "data": {
      "text/html": [
       "<pre style=\"margin: 0.1em;\n",
       "padding-left: 0.25em;\n",
       "border-left-style: solid;\n",
       "font-family: var(--jp-code-font-family);\n",
       "font-size: var(--jp-code-font-size);\n",
       "line-height: var(--jp-code-line-height);\n",
       "\"><span style=\"color: var(--jp-warn-color2)\">lsst.ip.isr.calibType</span> <span style=\"color: var(--jp-warn-color0)\">WARNING</span>: Overriding amplifier defined linearityType (Spline) for C03</pre>"
      ],
      "text/plain": [
       "<IPython.core.display.HTML object>"
      ]
     },
     "metadata": {},
     "output_type": "display_data"
    },
    {
     "data": {
      "text/html": [
       "<pre style=\"margin: 0.1em;\n",
       "padding-left: 0.25em;\n",
       "border-left-style: solid;\n",
       "font-family: var(--jp-code-font-family);\n",
       "font-size: var(--jp-code-font-size);\n",
       "line-height: var(--jp-code-line-height);\n",
       "\"><span style=\"color: var(--jp-warn-color2)\">lsst.ip.isr.calibType</span> <span style=\"color: var(--jp-warn-color0)\">WARNING</span>: Overriding amplifier defined linearityCoeffs ([ 0.00000000e+00  4.66490117e+03  9.32980235e+03  1.39947035e+04\n",
       "  1.86596047e+04  2.33245059e+04  2.79894070e+04  3.26543082e+04\n",
       "  3.73192094e+04  4.19841106e+04  4.66490117e+04  5.13139129e+04\n",
       "  5.59788141e+04  6.06437153e+04  6.53086164e+04  6.99735176e+04\n",
       "  7.46384188e+04  7.93033199e+04  8.39682211e+04  8.86331223e+04\n",
       "  0.00000000e+00  5.50668733e-01  5.70956756e+00  1.08686273e+01\n",
       "  2.10573450e+01  3.43539611e+01  4.38575124e+01  4.87422347e+01\n",
       "  5.23103382e+01  4.73857109e+01  2.66452353e+01 -3.76893000e+00\n",
       " -3.13355907e+01 -5.88899397e+01 -5.26607855e+01 -6.63305002e+01\n",
       " -3.36698526e+01 -3.57696607e+01 -4.93079014e+00 -9.71631799e+00]) for C03</pre>"
      ],
      "text/plain": [
       "<IPython.core.display.HTML object>"
      ]
     },
     "metadata": {},
     "output_type": "display_data"
    },
    {
     "data": {
      "text/html": [
       "<pre style=\"margin: 0.1em;\n",
       "padding-left: 0.25em;\n",
       "border-left-style: solid;\n",
       "font-family: var(--jp-code-font-family);\n",
       "font-size: var(--jp-code-font-size);\n",
       "line-height: var(--jp-code-line-height);\n",
       "\"><span style=\"color: var(--jp-warn-color2)\">lsst.ip.isr.calibType</span> <span style=\"color: var(--jp-warn-color0)\">WARNING</span>: Overriding amplifier defined linearityType (Spline) for C02</pre>"
      ],
      "text/plain": [
       "<IPython.core.display.HTML object>"
      ]
     },
     "metadata": {},
     "output_type": "display_data"
    },
    {
     "data": {
      "text/html": [
       "<pre style=\"margin: 0.1em;\n",
       "padding-left: 0.25em;\n",
       "border-left-style: solid;\n",
       "font-family: var(--jp-code-font-family);\n",
       "font-size: var(--jp-code-font-size);\n",
       "line-height: var(--jp-code-line-height);\n",
       "\"><span style=\"color: var(--jp-warn-color2)\">lsst.ip.isr.calibType</span> <span style=\"color: var(--jp-warn-color0)\">WARNING</span>: Overriding amplifier defined linearityCoeffs ([ 0.00000000e+00  4.73279454e+03  9.46558907e+03  1.41983836e+04\n",
       "  1.89311781e+04  2.36639727e+04  2.83967672e+04  3.31295617e+04\n",
       "  3.78623563e+04  4.25951508e+04  4.73279454e+04  5.20607399e+04\n",
       "  5.67935344e+04  6.15263290e+04  6.62591235e+04  7.09919180e+04\n",
       "  7.57247126e+04  8.04575071e+04  8.51903016e+04  8.99230962e+04\n",
       "  0.00000000e+00 -2.09703488e+00 -1.46108081e+00  9.12734796e+00\n",
       "  1.14631083e+01  2.92230284e+01  3.64975425e+01  4.30248224e+01\n",
       "  4.77079148e+01  4.17008799e+01  1.82562616e+01 -1.27387500e+01\n",
       " -3.62160328e+01 -5.96932562e+01 -4.70983023e+01 -6.31353873e+01\n",
       " -1.79919647e+01 -2.39098394e+01  1.50905404e+01  1.92441167e+01]) for C02</pre>"
      ],
      "text/plain": [
       "<IPython.core.display.HTML object>"
      ]
     },
     "metadata": {},
     "output_type": "display_data"
    },
    {
     "data": {
      "text/html": [
       "<pre style=\"margin: 0.1em;\n",
       "padding-left: 0.25em;\n",
       "border-left-style: solid;\n",
       "font-family: var(--jp-code-font-family);\n",
       "font-size: var(--jp-code-font-size);\n",
       "line-height: var(--jp-code-line-height);\n",
       "\"><span style=\"color: var(--jp-warn-color2)\">lsst.ip.isr.calibType</span> <span style=\"color: var(--jp-warn-color0)\">WARNING</span>: Overriding amplifier defined linearityType (Spline) for C01</pre>"
      ],
      "text/plain": [
       "<IPython.core.display.HTML object>"
      ]
     },
     "metadata": {},
     "output_type": "display_data"
    },
    {
     "data": {
      "text/html": [
       "<pre style=\"margin: 0.1em;\n",
       "padding-left: 0.25em;\n",
       "border-left-style: solid;\n",
       "font-family: var(--jp-code-font-family);\n",
       "font-size: var(--jp-code-font-size);\n",
       "line-height: var(--jp-code-line-height);\n",
       "\"><span style=\"color: var(--jp-warn-color2)\">lsst.ip.isr.calibType</span> <span style=\"color: var(--jp-warn-color0)\">WARNING</span>: Overriding amplifier defined linearityCoeffs ([ 0.00000000e+00  4.78582957e+03  9.57165914e+03  1.43574887e+04\n",
       "  1.91433183e+04  2.39291479e+04  2.87149774e+04  3.35008070e+04\n",
       "  3.82866366e+04  4.30724661e+04  4.78582957e+04  5.26441253e+04\n",
       "  5.74299549e+04  6.22157844e+04  6.70016140e+04  7.17874436e+04\n",
       "  7.65732731e+04  8.13591027e+04  8.61449323e+04  9.09307619e+04\n",
       "  0.00000000e+00  1.93501690e+00  8.42441645e+00  1.65330413e+01\n",
       "  2.69503366e+01  4.06526340e+01  5.08900170e+01  4.90932857e+01\n",
       "  5.31999412e+01  4.12477353e+01  2.16201284e+01 -1.23059709e+01\n",
       " -3.86101318e+01 -6.49142804e+01 -5.79696777e+01 -5.55326618e+01\n",
       " -3.87160159e+01 -2.83030938e+01 -1.17290622e+01 -3.52932782e+00]) for C01</pre>"
      ],
      "text/plain": [
       "<IPython.core.display.HTML object>"
      ]
     },
     "metadata": {},
     "output_type": "display_data"
    },
    {
     "data": {
      "text/html": [
       "<pre style=\"margin: 0.1em;\n",
       "padding-left: 0.25em;\n",
       "border-left-style: solid;\n",
       "font-family: var(--jp-code-font-family);\n",
       "font-size: var(--jp-code-font-size);\n",
       "line-height: var(--jp-code-line-height);\n",
       "\"><span style=\"color: var(--jp-warn-color2)\">lsst.ip.isr.calibType</span> <span style=\"color: var(--jp-warn-color0)\">WARNING</span>: Overriding amplifier defined linearityType (Spline) for C00</pre>"
      ],
      "text/plain": [
       "<IPython.core.display.HTML object>"
      ]
     },
     "metadata": {},
     "output_type": "display_data"
    },
    {
     "data": {
      "text/html": [
       "<pre style=\"margin: 0.1em;\n",
       "padding-left: 0.25em;\n",
       "border-left-style: solid;\n",
       "font-family: var(--jp-code-font-family);\n",
       "font-size: var(--jp-code-font-size);\n",
       "line-height: var(--jp-code-line-height);\n",
       "\"><span style=\"color: var(--jp-warn-color2)\">lsst.ip.isr.calibType</span> <span style=\"color: var(--jp-warn-color0)\">WARNING</span>: Overriding amplifier defined linearityCoeffs ([ 0.00000000e+00  4.91157141e+03  9.82314283e+03  1.47347142e+04\n",
       "  1.96462857e+04  2.45578571e+04  2.94694285e+04  3.43809999e+04\n",
       "  3.92925713e+04  4.42041427e+04  4.91157141e+04  5.40272856e+04\n",
       "  5.89388570e+04  6.38504284e+04  6.87619998e+04  7.36735712e+04\n",
       "  7.85851426e+04  8.34967140e+04  8.84082855e+04  9.33198569e+04\n",
       "  0.00000000e+00 -2.35522940e+00  1.10641334e+00  7.74283622e+00\n",
       "  1.75041382e+01  2.72654247e+01  3.57573184e+01  4.36882621e+01\n",
       "  4.15662738e+01  3.05907264e+01  4.81862610e+00 -2.53610349e+01\n",
       " -5.15681119e+01 -5.93608495e+01 -5.25687812e+01 -3.33499409e+01\n",
       " -1.81706473e+01  1.35476758e+00  2.34738120e+01  9.61177326e+00]) for C00</pre>"
      ],
      "text/plain": [
       "<IPython.core.display.HTML object>"
      ]
     },
     "metadata": {},
     "output_type": "display_data"
    },
    {
     "data": {
      "text/html": [
       "<pre style=\"margin: 0.1em;\n",
       "padding-left: 0.25em;\n",
       "border-left-style: solid;\n",
       "font-family: var(--jp-code-font-family);\n",
       "font-size: var(--jp-code-font-size);\n",
       "line-height: var(--jp-code-line-height);\n",
       "\"><span style=\"color: var(--jp-warn-color2)\">lsst.isr</span> <span style=\"color: var(--jp-info-color0)\">INFO</span>: Masking defects.</pre>"
      ],
      "text/plain": [
       "<IPython.core.display.HTML object>"
      ]
     },
     "metadata": {},
     "output_type": "display_data"
    },
    {
     "data": {
      "text/html": [
       "<pre style=\"margin: 0.1em;\n",
       "padding-left: 0.25em;\n",
       "border-left-style: solid;\n",
       "font-family: var(--jp-code-font-family);\n",
       "font-size: var(--jp-code-font-size);\n",
       "line-height: var(--jp-code-line-height);\n",
       "\"><span style=\"color: var(--jp-warn-color2)\">lsst.isr</span> <span style=\"color: var(--jp-info-color0)\">INFO</span>: Masking non-finite (NAN, inf) value pixels.</pre>"
      ],
      "text/plain": [
       "<IPython.core.display.HTML object>"
      ]
     },
     "metadata": {},
     "output_type": "display_data"
    },
    {
     "data": {
      "text/html": [
       "<pre style=\"margin: 0.1em;\n",
       "padding-left: 0.25em;\n",
       "border-left-style: solid;\n",
       "font-family: var(--jp-code-font-family);\n",
       "font-size: var(--jp-code-font-size);\n",
       "line-height: var(--jp-code-line-height);\n",
       "\"><span style=\"color: var(--jp-warn-color2)\">lsst.isr</span> <span style=\"color: var(--jp-info-color0)\">INFO</span>: Widening saturation trails.</pre>"
      ],
      "text/plain": [
       "<IPython.core.display.HTML object>"
      ]
     },
     "metadata": {},
     "output_type": "display_data"
    },
    {
     "data": {
      "text/html": [
       "<pre style=\"margin: 0.1em;\n",
       "padding-left: 0.25em;\n",
       "border-left-style: solid;\n",
       "font-family: var(--jp-code-font-family);\n",
       "font-size: var(--jp-code-font-size);\n",
       "line-height: var(--jp-code-line-height);\n",
       "\"><span style=\"color: var(--jp-warn-color2)\">lsst.isr</span> <span style=\"color: var(--jp-info-color0)\">INFO</span>: Applying dark correction.</pre>"
      ],
      "text/plain": [
       "<IPython.core.display.HTML object>"
      ]
     },
     "metadata": {},
     "output_type": "display_data"
    },
    {
     "data": {
      "text/html": [
       "<pre style=\"margin: 0.1em;\n",
       "padding-left: 0.25em;\n",
       "border-left-style: solid;\n",
       "font-family: var(--jp-code-font-family);\n",
       "font-size: var(--jp-code-font-size);\n",
       "line-height: var(--jp-code-line-height);\n",
       "\"><span style=\"color: var(--jp-warn-color2)\">lsst.isr</span> <span style=\"color: var(--jp-info-color0)\">INFO</span>: Applying gain correction instead of flat.</pre>"
      ],
      "text/plain": [
       "<IPython.core.display.HTML object>"
      ]
     },
     "metadata": {},
     "output_type": "display_data"
    },
    {
     "data": {
      "text/html": [
       "<pre style=\"margin: 0.1em;\n",
       "padding-left: 0.25em;\n",
       "border-left-style: solid;\n",
       "font-family: var(--jp-code-font-family);\n",
       "font-size: var(--jp-code-font-size);\n",
       "line-height: var(--jp-code-line-height);\n",
       "\"><span style=\"color: var(--jp-warn-color2)\">lsst.isr</span> <span style=\"color: var(--jp-info-color0)\">INFO</span>: Applying fringe correction after flat.</pre>"
      ],
      "text/plain": [
       "<IPython.core.display.HTML object>"
      ]
     },
     "metadata": {},
     "output_type": "display_data"
    },
    {
     "data": {
      "text/html": [
       "<pre style=\"margin: 0.1em;\n",
       "padding-left: 0.25em;\n",
       "border-left-style: solid;\n",
       "font-family: var(--jp-code-font-family);\n",
       "font-size: var(--jp-code-font-size);\n",
       "line-height: var(--jp-code-line-height);\n",
       "\"><span style=\"color: var(--jp-warn-color2)\">lsst.isr.fringe</span> <span style=\"color: var(--jp-info-color0)\">INFO</span>: Filter not found in FringeTaskConfig.filters. Skipping fringe correction.</pre>"
      ],
      "text/plain": [
       "<IPython.core.display.HTML object>"
      ]
     },
     "metadata": {},
     "output_type": "display_data"
    },
    {
     "data": {
      "text/html": [
       "<pre style=\"margin: 0.1em;\n",
       "padding-left: 0.25em;\n",
       "border-left-style: solid;\n",
       "font-family: var(--jp-code-font-family);\n",
       "font-size: var(--jp-code-font-size);\n",
       "line-height: var(--jp-code-line-height);\n",
       "\"><span style=\"color: var(--jp-warn-color2)\">lsst.isr</span> <span style=\"color: var(--jp-info-color0)\">INFO</span>: Set 75375 BAD pixels to 75601.929688.</pre>"
      ],
      "text/plain": [
       "<IPython.core.display.HTML object>"
      ]
     },
     "metadata": {},
     "output_type": "display_data"
    },
    {
     "data": {
      "text/html": [
       "<pre style=\"margin: 0.1em;\n",
       "padding-left: 0.25em;\n",
       "border-left-style: solid;\n",
       "font-family: var(--jp-code-font-family);\n",
       "font-size: var(--jp-code-font-size);\n",
       "line-height: var(--jp-code-line-height);\n",
       "\"><span style=\"color: var(--jp-warn-color2)\">lsst.isr</span> <span style=\"color: var(--jp-info-color0)\">INFO</span>: Interpolating masked pixels.</pre>"
      ],
      "text/plain": [
       "<IPython.core.display.HTML object>"
      ]
     },
     "metadata": {},
     "output_type": "display_data"
    },
    {
     "data": {
      "text/html": [
       "<pre style=\"margin: 0.1em;\n",
       "padding-left: 0.25em;\n",
       "border-left-style: solid;\n",
       "font-family: var(--jp-code-font-family);\n",
       "font-size: var(--jp-code-font-size);\n",
       "line-height: var(--jp-code-line-height);\n",
       "\"><span style=\"color: var(--jp-warn-color2)\">lsst.isr</span> <span style=\"color: var(--jp-warn-color0)\">WARNING</span>: No rough magnitude zero point defined for filter HIGH.</pre>"
      ],
      "text/plain": [
       "<IPython.core.display.HTML object>"
      ]
     },
     "metadata": {},
     "output_type": "display_data"
    },
    {
     "data": {
      "text/html": [
       "<pre style=\"margin: 0.1em;\n",
       "padding-left: 0.25em;\n",
       "border-left-style: solid;\n",
       "font-family: var(--jp-code-font-family);\n",
       "font-size: var(--jp-code-font-size);\n",
       "line-height: var(--jp-code-line-height);\n",
       "\"><span style=\"color: var(--jp-warn-color2)\">lsst.isr</span> <span style=\"color: var(--jp-info-color0)\">INFO</span>: Setting rough magnitude zero point for filter HIGH: 30.953537</pre>"
      ],
      "text/plain": [
       "<IPython.core.display.HTML object>"
      ]
     },
     "metadata": {},
     "output_type": "display_data"
    },
    {
     "data": {
      "text/plain": [
       "<matplotlib.image.AxesImage at 0x7fb19b3c0590>"
      ]
     },
     "execution_count": 11,
     "metadata": {},
     "output_type": "execute_result"
    }
   ],
   "source": [
    "from lsst.ip.isr.isrTask import IsrTask\n",
    "\n",
    "img = butler.get(refs[0])\n",
    "isr = IsrTask()\n",
    "isr.config.doLinearize=True\n",
    "isr.config.doDark=True\n",
    "isr.config.doBias=True\n",
    "isr.config.doFlat=False\n",
    "isr.config.doDefect=True\n",
    "#isr.config.usePtcGains=True\n",
    "isr.config.doApplyGains=True\n",
    "isr.config.overscan.fitType: 'MEDIAN_PER_ROW'\n",
    "#isr.config.overscan.doParallelOverscan = True \n",
    "#isr.config.overscan.fitType: 'AKIMA_SPLINE'\n",
    "#isr.config.overscan.fitType: 'MEAN'\n",
    "postISRCCD = isr.run(img,\n",
    "                     defects=defects,\n",
    "                     #ptc=ptc,\n",
    "                     bias=bias,\n",
    "                     dark=dark,\n",
    "                     linearizer=linearity)\n",
    "\n",
    "plt.imshow(postISRCCD.exposure.image.array)"
   ]
  },
  {
   "cell_type": "code",
   "execution_count": null,
   "metadata": {},
   "outputs": [],
   "source": [
    "#image,header = pyfits.getdata(filename), pyfits.getheader(filename)\n",
    "\n",
    "# diff = apply_to_blocks(image, lambda x:get_diff(x, size=128))\n",
    "# diff = apply_to_blocks(image, lambda x:get_diff_lowpass(x, size=128))\n",
    "image = postISRCCD.exposure.image.array\n",
    "header = img.getMetadata()\n",
    "diff = get_diff_lowpass(image, size=250, power=4.0, use_zero=False)\n",
    "\n",
    "imshow(diff, interpolation='bicubic', vmin=-0.003, vmax=0.003)\n",
    "plt.title(f\"{header['LSST_NUM']}, {header['BSSVBS']}, {header['CCOBLED']}\")"
   ]
  },
  {
   "cell_type": "markdown",
   "metadata": {},
   "source": [
    "### Preparing the image and masking artefacts"
   ]
  },
  {
   "cell_type": "code",
   "execution_count": null,
   "metadata": {},
   "outputs": [],
   "source": [
    "downscale = 8\n",
    "#threshold = 0.0003 # For faintest rings\n",
    "#threshold = 0.0005 # For faint rings\n",
    "#threshold = 0.001 # For stronger rings\n",
    "#threshold = 0.002 # For strongest rings\n",
    "threshold = 0.002*3 # For strongest rings\n",
    "\n",
    "\n",
    "diff1 = gaussian_filter(diff, 8.0)\n",
    "mask = np.abs(diff1) > threshold\n",
    "diff2 = block_reduce(diff1, (downscale, downscale), func=np.mean)\n",
    "mask2 = block_reduce(mask, (downscale, downscale), func=np.max)\n",
    "diff2[mask2] = None\n",
    "\n",
    "imshow(diff2, interpolation='bicubic')#, vmin=-0.005, vmax=0.005)\n",
    "plt.title('Downscaled and masked circle detection image')"
   ]
  },
  {
   "cell_type": "markdown",
   "metadata": {},
   "source": [
    "### Fitting for circular pattern center"
   ]
  },
  {
   "cell_type": "code",
   "execution_count": null,
   "metadata": {},
   "outputs": [],
   "source": [
    "# Pixel coordinate grid\n",
    "y2,x2 = np.mgrid[0:diff2.shape[0], 0:diff2.shape[1]]\n",
    "y,x = np.mgrid[0:diff.shape[0], 0:diff.shape[1]]\n",
    "\n",
    "def fn_detect(p):\n",
    "    '''Estimator to locate tree rings center in downscaled images'''\n",
    "    r = np.hypot(x2-p[0], y2-p[1])\n",
    "    idx = np.isfinite(diff2) & (diff2 != 0)\n",
    "    v,bins,_ = binned_statistic(r[idx], diff2[idx], bins=np.arange(np.mean(r), np.max(r), 1.0))\n",
    "    return -np.std(v[np.isfinite(v)])\n",
    "\n",
    "def fn_measure(x0, y0, mask=None, step=4.0, statistic='mean'):\n",
    "    '''Function to measure tree rings in original image given the center'''\n",
    "    r = np.hypot(x-x0, y-y0)\n",
    "    idx = np.isfinite(diff) & (diff != 0)\n",
    "    if mask is not None:\n",
    "        idx &= ~mask\n",
    "    v,bins,_ = binned_statistic(r[idx], diff[idx], bins=np.arange(np.min(r), np.max(r), step), statistic=statistic)\n",
    "    \n",
    "    return 0.5*(bins[1:]+bins[:-1]), v\n",
    "\n",
    "extent = 100\n",
    "# extent = 200 # For larger center displacement\n",
    "\n",
    "bounds = [\n",
    "    [ [-extent,0],[-extent,0] ],   # lower left\n",
    "    [ [-extent,0],[diff2.shape[0],diff2.shape[0]+extent] ],   # uppper left\n",
    "    [ [diff2.shape[1],diff2.shape[1]+extent],[diff2.shape[0],diff2.shape[0]+extent] ],    # upper right\n",
    "    [[ diff2.shape[1],diff2.shape[1]+extent],[-extent,0] ]    # lower right\n",
    "]\n",
    "\n",
    "results = []\n",
    "for bound in bounds:\n",
    "    cc = opt.differential_evolution(fn_detect, bound, popsize=15)\n",
    "    results.append(cc)\n",
    "\n",
    "cc=sorted(results, key=lambda x: x.fun)[::-1][0]\n",
    "\n",
    "print (sorted(results, key=lambda x: x.fun)[::-1])\n",
    "\n",
    "x0,y0 = cc.x[0]*downscale, cc.x[1]*downscale\n",
    "print (\"Original scale coordinates:\", x0, y0)"
   ]
  },
  {
   "cell_type": "markdown",
   "metadata": {},
   "source": [
    "### Diagnostic plots"
   ]
  },
  {
   "cell_type": "code",
   "execution_count": null,
   "metadata": {},
   "outputs": [],
   "source": [
    "from matplotlib.patches import Circle\n",
    "\n",
    "plt.figure(figsize=(10,12))\n",
    "\n",
    "plt.subplot2grid((4,1),(0,0), rowspan=3)\n",
    "\n",
    "imshow(diff, interpolation='bicubic', vmin=-0.003, vmax=0.003)\n",
    "plt.title(f\"{header['LSST_NUM']}, {header['BSSVBS']}, {header['CCOBLED']}\")\n",
    "\n",
    "plt.plot(x0, y0, 'o', color='blue', label=\"center: (%.0f,%.0f)\" % (x0, y0))\n",
    "\n",
    "# plt.text(x0+30, y0+30, \"(%.0f,%.0f)\" % (x0, y0))\n",
    "plt.legend(frameon=True, framealpha=1)\n",
    "\n",
    "for _ in np.arange(0, 10000, 500):\n",
    "    plt.gca().add_patch(Circle((x0, y0), _, color='blue', ls='-', fc='none', alpha=0.5))\n",
    "\n",
    "plt.xlim(0,4100)\n",
    "plt.ylim(0,4100)\n",
    "\n",
    "# plt.show()\n",
    "\n",
    "# Now make less restrictive mask\n",
    "mask = np.abs(diff1) > 0.002\n",
    "\n",
    "pos,v = fn_measure(x0, y0, mask=mask, step=1.0, statistic='mean')\n",
    "# plt.subplot(211)\n",
    "plt.subplot2grid((4,1),(3,0), rowspan=1)\n",
    "\n",
    "plt.plot(pos, v, '-')\n",
    "plt.axhline(0, color='black', alpha=0.3, ls='--')\n",
    "plt.xlabel('Radius, pixels')\n",
    "plt.ylabel('Relative deviation')\n",
    "# plt.title('%s, bias %g V, %.0f nm' % (header['LSST_NUM'], header['BSSVBS'], header['CCOBLED']))\n",
    "plt.ylim(-0.02, 0.02)\n",
    "plt.tight_layout()"
   ]
  },
  {
   "cell_type": "code",
   "execution_count": null,
   "metadata": {},
   "outputs": [],
   "source": [
    "plt.subplot(211)\n",
    "plt.plot(pos, v, '-')\n",
    "plt.axhline(0, color='black', alpha=0.3, ls='--')\n",
    "plt.xlabel('Radius, pixels')\n",
    "plt.ylabel('Relative deviation')\n",
    "plt.title(f\"{header['LSST_NUM']}, {header['BSSVBS']}, {header['CCOBLED']}\")\n",
    "# plt.ylim(-0.002, 0.002)\n",
    "plt.xlim(5000,6000)"
   ]
  },
  {
   "cell_type": "markdown",
   "metadata": {},
   "source": [
    "### Periodogram"
   ]
  },
  {
   "cell_type": "code",
   "execution_count": null,
   "metadata": {},
   "outputs": [],
   "source": [
    "from scipy.signal import periodogram, lombscargle\n",
    "\n",
    "lo,hi = np.percentile(pos[np.isfinite(v)], [20,99])\n",
    "print (\"Will analyse the following radial interval: %.0f - %.0f pixels\" % (lo,hi))\n",
    "idx = np.isfinite(v) & (pos > lo) & (pos < hi)\n",
    "\n",
    "freq,power = periodogram(v[idx], fs=1.0/(pos[1]-pos[0]))\n",
    "\n",
    "plt.subplot(211)\n",
    "plt.plot(pos, v)\n",
    "plt.xlim(lo,hi)\n",
    "plt.ylabel('Relative variation')\n",
    "plt.title(f\"{header['LSST_NUM']}, {header['BSSVBS']}, {header['CCOBLED']}\")\n",
    "\n",
    "plt.subplot(212)\n",
    "plt.plot(1.0/freq, power, '-')\n",
    "maxidx = power==np.max(power[freq>1e-3])\n",
    "plt.plot(1.0/freq[maxidx], power[maxidx], 'o', color='red', label=\"period = %.1f pix\" % (1.0/freq[maxidx][0]))\n",
    "plt.legend(frameon=True, framealpha=0.9)\n",
    "\n",
    "plt.xscale('log')\n",
    "plt.xlabel('Period, pixels')\n",
    "plt.ylabel('Periodogram')\n",
    "# plt.xlim(1e-3,1e-1)\n",
    "plt.margins(0.03, 0.03)"
   ]
  },
  {
   "cell_type": "markdown",
   "metadata": {},
   "source": [
    "### Dynamic power spectrum"
   ]
  },
  {
   "cell_type": "code",
   "execution_count": null,
   "metadata": {},
   "outputs": [],
   "source": [
    "dynpower = []\n",
    "window = 500\n",
    "lo,hi = np.percentile(pos[np.isfinite(v)], [20,99])\n",
    "freq = np.arange(1e-3, 0.5e-1, 1e-3)\n",
    "\n",
    "for _ in np.linspace(lo, hi-window, 100):\n",
    "    idx = np.isfinite(v) & (pos >= _) & (pos < _+window)\n",
    "#     freq,power = periodogram(v[idx], fs=1.0/5)\n",
    "    power = lombscargle(pos[idx], v[idx], 2*np.pi*freq, normalize=False, precenter=False)\n",
    "    dynpower.append(power)\n",
    "    \n",
    "dynpower = np.array(dynpower).T\n",
    "extent = [lo,hi,freq[0],freq[-1]]\n",
    "\n",
    "ax=plt.subplot(211)\n",
    "plt.plot(pos, v)\n",
    "plt.xlim(lo,hi)\n",
    "plt.ylabel('Relative variation')\n",
    "plt.title(f\"{header['LSST_NUM']}, {header['BSSVBS']}, {header['CCOBLED']}\")\n",
    "\n",
    "plt.subplot(212, sharex=ax)\n",
    "imshow(dynpower, [0.5, 99.0], aspect='auto', extent=extent, interpolation='bicubic', show_colorbar=False)\n",
    "plt.xlabel('Radius, pix')\n",
    "plt.ylabel('Pixel frequency')\n",
    "plt.title('Unnormalized power vs time, %g pix window' % window)"
   ]
  },
  {
   "cell_type": "code",
   "execution_count": null,
   "metadata": {},
   "outputs": [],
   "source": [
    "normalize = True\n",
    "\n",
    "dynpower = []\n",
    "window = 500\n",
    "lo,hi = np.percentile(pos[np.isfinite(v)], [20,99])\n",
    "periods = np.arange(20.0, 150.0, 0.1)\n",
    "\n",
    "for _ in np.linspace(lo, hi-window, 100):\n",
    "    idx = np.isfinite(v) & (pos >= _) & (pos < _+window)\n",
    "    power = lombscargle(pos[idx], v[idx], 2*np.pi/periods, normalize=normalize, precenter=False)\n",
    "    dynpower.append(power)\n",
    "    \n",
    "dynpower = np.array(dynpower).T\n",
    "extent = [lo,hi,periods[0],periods[-1]]\n",
    "\n",
    "ax=plt.subplot(211)\n",
    "plt.plot(pos, v)\n",
    "plt.xlim(lo,hi)\n",
    "plt.ylabel('Relative variation')\n",
    "plt.title(f\"{header['LSST_NUM']}, {header['BSSVBS']}, {header['CCOBLED']}\")\n",
    "\n",
    "plt.subplot(212, sharex=ax)\n",
    "imshow(dynpower, [0.5, 99.0], aspect='auto', extent=extent, interpolation='bicubic', show_colorbar=False)\n",
    "plt.xlabel('Radius, pix')\n",
    "plt.ylabel('Period, pixels')\n",
    "if normalize:\n",
    "    plt.title('Normalized power vs time, %g pix window' % window)\n",
    "else:\n",
    "    plt.title('Unnormalized power vs time, %g pix window' % window)\n",
    "# plt.yscale('log')"
   ]
  },
  {
   "cell_type": "markdown",
   "metadata": {},
   "source": [
    "### Amplitude vs Radius"
   ]
  },
  {
   "cell_type": "code",
   "execution_count": null,
   "metadata": {},
   "outputs": [],
   "source": [
    "mids,stds = [],[]\n",
    "\n",
    "for _ in np.linspace(lo, hi-window, 100):\n",
    "    idx = np.isfinite(v) & (pos >= _) & (pos < _+window)\n",
    "    stds.append(np.std(v[idx]))\n",
    "    mids.append(np.mean(pos[idx]))\n",
    "\n",
    "#mids,stds = [np.array(_) for _ in mids,stds]\n",
    "\n",
    "stds=numpy.array(stds)\n",
    "mids=numpy.array(mids)\n",
    "\n",
    "ax=plt.subplot(211)\n",
    "plt.plot(mids, stds, lw=3, alpha=1)\n",
    "plt.xlim(lo,hi)\n",
    "plt.xlabel('Radius, pixels')\n",
    "plt.ylabel('Standard deviation')\n",
    "plt.title(f\"{header['LSST_NUM']}, {header['BSSVBS']}, {header['CCOBLED']}\")\n",
    "\n",
    "def fn(p):\n",
    "    return p[0] + p[1]*(mids/4000)**p[2] - stds\n",
    "\n",
    "def fn4(p):\n",
    "    return p[0] + p[1]*(mids/4000)**4 - stds\n",
    "\n",
    "p,_ = opt.leastsq(fn, [0.0, 1e-4, 4.0])\n",
    "plt.plot(mids, p[0] + p[1]*(mids/4000)**p[2], '-', color='red', label=\"%.2g + %.2g*(r/4000)^%.2g\" % (p[0], p[1], p[2]))\n",
    "\n",
    "p,_ = opt.leastsq(fn4, [0.0, 1e-4])\n",
    "plt.plot(mids, p[0] + p[1]*(mids/4000)**4, '-', color='green', label=\"%.2g + %.2g*(r/4000)^%.2g\" % (p[0], p[1], 4.0), ls='--')\n",
    "\n",
    "plt.legend(frameon=True)"
   ]
  },
  {
   "cell_type": "code",
   "execution_count": null,
   "metadata": {},
   "outputs": [],
   "source": []
  },
  {
   "cell_type": "code",
   "execution_count": null,
   "metadata": {},
   "outputs": [],
   "source": []
  }
 ],
 "metadata": {
  "celltoolbar": "Raw Cell Format",
  "kernelspec": {
   "display_name": "LSST",
   "language": "python",
   "name": "lsst"
  },
  "language_info": {
   "codemirror_mode": {
    "name": "ipython",
    "version": 3
   },
   "file_extension": ".py",
   "mimetype": "text/x-python",
   "name": "python",
   "nbconvert_exporter": "python",
   "pygments_lexer": "ipython3",
   "version": "3.11.7"
  }
 },
 "nbformat": 4,
 "nbformat_minor": 4
}
